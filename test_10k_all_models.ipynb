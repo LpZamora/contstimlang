{
 "cells": [
  {
   "cell_type": "code",
   "execution_count": null,
   "metadata": {},
   "outputs": [],
   "source": [
    "import pickle\n",
    "import numpy as np\n",
    "import random\n",
    "import math\n",
    "\n",
    "from lstm_class import RNNLM\n",
    "from bilstm_class import RNNLM_bilstm\n",
    "from rnn_class import RNNModel\n",
    "from model_functions import model_factory\n",
    "\n",
    "\n",
    "\n"
   ]
  },
  {
   "cell_type": "code",
   "execution_count": null,
   "metadata": {},
   "outputs": [],
   "source": [
    "file=open('sents10k_good.txt','r')\n",
    "sents=file.read()\n",
    "sents=sents.split('\\n')"
   ]
  },
  {
   "cell_type": "code",
   "execution_count": null,
   "metadata": {},
   "outputs": [],
   "source": [
    "models=['bigram','trigram','rnn','lstm','bilstm','bert','bert_whole_word','roberta','xlm','electra','gpt2']\n",
    "\n",
    "model1_name='electra'\n",
    "model1=model_factory(model1_name,0)\n",
    "\n",
    "prob_ranges=no.zeros([11,2])"
   ]
  },
  {
   "cell_type": "code",
   "execution_count": null,
   "metadata": {},
   "outputs": [],
   "source": [
    "probs=[]\n",
    "for si,sent in enumerate(sents):\n",
    "        \n",
    "    prob=model1.sent_prob(sent)\n",
    "    probs.append(prob)\n",
    "    \n",
    "probs=np.array(probs)\n",
    "\n",
    "np.save('sents10k_probs_'+model1_name+'.npy',probs)\n",
    "\n",
    "prob_ranges[models.index(model1_name),0]=np.min(probs)\n",
    "prob_ranges[models.index(model1_name),1]=np.max(probs)"
   ]
  },
  {
   "cell_type": "code",
   "execution_count": null,
   "metadata": {},
   "outputs": [],
   "source": [
    "np.save('prob_ranges.npy',prob_ranges)"
   ]
  }
 ],
 "metadata": {
  "kernelspec": {
   "display_name": "Python 3",
   "language": "python",
   "name": "python3"
  },
  "language_info": {
   "codemirror_mode": {
    "name": "ipython",
    "version": 3
   },
   "file_extension": ".py",
   "mimetype": "text/x-python",
   "name": "python",
   "nbconvert_exporter": "python",
   "pygments_lexer": "ipython3",
   "version": "3.7.6"
  }
 },
 "nbformat": 4,
 "nbformat_minor": 4
}
