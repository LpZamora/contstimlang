{
 "cells": [
  {
   "cell_type": "code",
   "execution_count": 1,
   "metadata": {},
   "outputs": [],
   "source": [
    "import numpy as np\n",
    "import pandas as pd\n",
    "import random\n",
    "from itertools import combinations, permutations"
   ]
  },
  {
   "cell_type": "code",
   "execution_count": 2,
   "metadata": {},
   "outputs": [],
   "source": [
    "models=['bert','gpt2','roberta','electra','xlm','lstm','rnn','bigram','trigram']\n",
    "\n",
    "sheet=pd.read_excel('cont_stim_pilot_all.xlsx')\n",
    "\n",
    "models1=list(sheet['m1'])\n",
    "models2=list(sheet['m2'])\n",
    "natural=list(sheet['N'])\n",
    "sents1=list(sheet['S1'])\n",
    "sents2=list(sheet['S2'])\n",
    "rank1=list(sheet['p_N_given_m1_decile'])\n",
    "rank2=list(sheet['p_N_given_m2_decile'])\n",
    "\n",
    "unique_models1=list(set(models1))\n",
    "unique_models2=list(set(models2))"
   ]
  },
  {
   "cell_type": "code",
   "execution_count": 3,
   "metadata": {},
   "outputs": [],
   "source": [
    "\n",
    "poss_stim=[]\n",
    "\n",
    "for i in range(30):\n",
    "    \n",
    "    trip_ind=int(i/3)\n",
    "    \n",
    "    type_ind=i%3\n",
    "\n",
    "    models1_sub=models1[trip_ind::10]\n",
    "    models2_sub=models2[trip_ind::10]\n",
    "    \n",
    "    natural_sub=natural[trip_ind::10]\n",
    "    sents1_sub=sents1[trip_ind::10]\n",
    "    sents2_sub=sents2[trip_ind::10]\n",
    "    \n",
    "    for j in range(len(models1_sub)):\n",
    "        \n",
    "        m1=models1_sub[j]\n",
    "        m2=models2_sub[j]\n",
    "        \n",
    "        n=natural_sub[j]\n",
    "        s1=sents1_sub[j]\n",
    "        s2=sents2_sub[j]\n",
    "       \n",
    "        if type_ind==0:\n",
    "            type1='-'.join([m1,m2,'N','S1'])\n",
    "            trial=[type1,m1,m2,'N','S1',n,s1]\n",
    "        elif type_ind==1:\n",
    "            type1='-'.join([m1,m2,'N','S2'])\n",
    "            trial=[type1,m1,m2,'N','S2',n,s2]\n",
    "        elif type_ind==2:\n",
    "            type1='-'.join([m1,m2,'S1','S2'])\n",
    "            trial=[type1,m1,m2,'S1','S2',s1,s2]\n",
    "            \n",
    "        poss_stim.append(trial)"
   ]
  },
  {
   "cell_type": "code",
   "execution_count": 4,
   "metadata": {},
   "outputs": [],
   "source": [
    "sheet=pd.read_excel('cont_stim_pilot_natural.xlsx')\n",
    "\n",
    "models1=list(sheet['m1'])\n",
    "models2=list(sheet['m2'])\n",
    "sents1=list(sheet['S1'])\n",
    "sents2=list(sheet['S2'])\n",
    "\n",
    "for i in range(len(sheet)):\n",
    "    \n",
    "    poss_stim.append([sheet['m1'][i]+'-'+sheet['m2'][i]+'-N1-N2',sheet['m1'][i],sheet['m2'][i],'N1','N2',sheet['S1'][i],sheet['S2'][i]])\n"
   ]
  },
  {
   "cell_type": "code",
   "execution_count": 5,
   "metadata": {},
   "outputs": [],
   "source": [
    "used_sents=[p[5] for p in poss_stim]+[p[6] for p in poss_stim]\n",
    "all_sents=open('sents_reddit_natural_June2021_filtered.txt','r')\n",
    "all_sents=all_sents.read().split('\\n')\n",
    "all_sents=list(set(all_sents)-set(used_sents))\n",
    "random.shuffle(all_sents)\n",
    "add_sents=all_sents[:300]"
   ]
  },
  {
   "cell_type": "code",
   "execution_count": 6,
   "metadata": {},
   "outputs": [],
   "source": [
    "sent_ind=0\n",
    "for i in range(90):\n",
    "        s1=add_sents[sent_ind]\n",
    "        s2=add_sents[sent_ind+1]\n",
    "        sent_ind+=2\n",
    "        poss_stim.append(['all-all-R1-R2','all','all','R1','R2',s1,s2])\n",
    "\n",
    "        \n",
    "for i in range(120):\n",
    "        s1=add_sents[sent_ind]\n",
    "        w=s1.split(' ')\n",
    "        random.shuffle(w)\n",
    "        s2=' '.join(w)\n",
    "        sent_ind+=1\n",
    "        poss_stim.append(['all-all-C1-C2','all','all','C1','C2',s1,s2])"
   ]
  },
  {
   "cell_type": "code",
   "execution_count": null,
   "metadata": {},
   "outputs": [],
   "source": []
  },
  {
   "cell_type": "code",
   "execution_count": 7,
   "metadata": {},
   "outputs": [
    {
     "data": {
      "text/plain": [
       "165.0"
      ]
     },
     "execution_count": 7,
     "metadata": {},
     "output_type": "execute_result"
    }
   ],
   "source": [
    "len(poss_stim)/10\n"
   ]
  },
  {
   "cell_type": "code",
   "execution_count": 8,
   "metadata": {
    "scrolled": true
   },
   "outputs": [],
   "source": [
    "random.shuffle(poss_stim)\n",
    "\n",
    "type_strs=list(set([p[0] for p in poss_stim]))\n"
   ]
  },
  {
   "cell_type": "code",
   "execution_count": 9,
   "metadata": {},
   "outputs": [],
   "source": [
    "done=[]\n",
    "\n",
    "sub_all=[]\n",
    "\n",
    "for i in range(10):\n",
    "    \n",
    "    sub=[]\n",
    "    \n",
    "    for type1 in type_strs:\n",
    "        \n",
    "        poss_trials=[p for p in poss_stim if p[0]==type1]\n",
    "\n",
    "        if type1[-2:]=='C2':\n",
    "            \n",
    "            ind=0\n",
    "            for trial in poss_trials:\n",
    "\n",
    "                if trial not in done:\n",
    "                    sub.append(trial)\n",
    "                    done.append(trial)\n",
    "                    ind+=1\n",
    "                    if ind==12:\n",
    "                        break\n",
    "                        \n",
    "        elif type1[-2:]=='R2':\n",
    "            \n",
    "            ind=0\n",
    "            for trial in poss_trials:\n",
    "\n",
    "                if trial not in done:\n",
    "                    sub.append(trial)\n",
    "                    done.append(trial)\n",
    "                    ind+=1\n",
    "                    if ind==9:\n",
    "                        break\n",
    "            \n",
    "        else:\n",
    "            \n",
    "            for trial in poss_trials:\n",
    "\n",
    "                if trial not in done:\n",
    "                    sub.append(trial)\n",
    "                    done.append(trial)\n",
    "                    break\n",
    "                \n",
    "    sub_all.append(sub)"
   ]
  },
  {
   "cell_type": "code",
   "execution_count": null,
   "metadata": {},
   "outputs": [],
   "source": []
  },
  {
   "cell_type": "code",
   "execution_count": 22,
   "metadata": {},
   "outputs": [],
   "source": [
    "sub_sets_all=[]\n",
    "for sub in sub_all:\n",
    "    \n",
    "    sub_sets=[]\n",
    "    \n",
    "    for i in range(10):\n",
    "    \n",
    "        random.shuffle(sub)\n",
    "\n",
    "        sub2=[]\n",
    "        for si,s in enumerate(sub):\n",
    "\n",
    "            r=random.randint(0,1)\n",
    "\n",
    "            if r==0:\n",
    "\n",
    "                t=[s[0],s[1],s[2],s[3],s[4],s[5],s[6],0]\n",
    "\n",
    "            elif r==1:\n",
    "\n",
    "                t=[s[0],s[2],s[1],s[4],s[3],s[6],s[5],1]\n",
    "\n",
    "            sub2.append(t)\n",
    "\n",
    "        sub_sets.append(sub2)\n",
    "        \n",
    "    sub_sets_all.append(sub_sets)\n",
    "\n",
    "    "
   ]
  },
  {
   "cell_type": "code",
   "execution_count": null,
   "metadata": {},
   "outputs": [],
   "source": []
  },
  {
   "cell_type": "code",
   "execution_count": null,
   "metadata": {},
   "outputs": [],
   "source": []
  },
  {
   "cell_type": "code",
   "execution_count": 23,
   "metadata": {},
   "outputs": [],
   "source": [
    "frame=pd.DataFrame()\n",
    "\n",
    "frame['randomise_blocks']=['']*167\n",
    "frame['randomise_trials']=['']*167\n",
    "frame['display']=['Instructions']+['Trial']*165+['End']\n",
    "frame['ANSWER']=['']*167\n",
    "frame['Progress']=['']+[1 for i in range(165)]+['']\n",
    "\n",
    "for i in range(10):\n",
    "\n",
    "    for j in range(10):\n",
    "\n",
    "#         frame['subject_set '+str(i+1)+'_'+str(j+1)]=['']+[i for j in range(1,166)]+['']\n",
    "        frame['trial_set '+str(i+1)+'_'+str(j+1)]=['']+list(np.arange(1,166))+['']\n",
    "        frame['trial_type_set '+str(i+1)+'_'+str(j+1)]=['']+[s[0] for s in sub_sets_all[i][j]]+['']\n",
    "\n",
    "        frame['sentence1_model_set '+str(i+1)+'_'+str(j+1)]=['']+[s[1] for s in sub_sets_all[i][j]]+['']\n",
    "        frame['sentence2_model_set '+str(i+1)+'_'+str(j+1)]=['']+[s[2] for s in sub_sets_all[i][j]]+['']\n",
    "        frame['sentence1_type_set '+str(i+1)+'_'+str(j+1)]=['']+[s[3] for s in sub_sets_all[i][j]]+['']\n",
    "        frame['sentence2_type_set '+str(i+1)+'_'+str(j+1)]=['']+[s[4] for s in sub_sets_all[i][j]]+['']\n",
    "        frame['sentence1_set '+str(i+1)+'_'+str(j+1)]=['']+[s[5] for s in sub_sets_all[i][j]]+['']\n",
    "        frame['sentence2_set '+str(i+1)+'_'+str(j+1)]=['']+[s[6] for s in sub_sets_all[i][j]]+['']\n",
    "        frame['LR_flipped_set '+str(i+1)+'_'+str(j+1)]=['']+[s[7] for s in sub_sets_all[i][j]]+['']\n"
   ]
  },
  {
   "cell_type": "code",
   "execution_count": null,
   "metadata": {},
   "outputs": [],
   "source": []
  },
  {
   "cell_type": "code",
   "execution_count": 25,
   "metadata": {},
   "outputs": [],
   "source": [
    "frame.to_excel('spreadsheet_contstim_confidence_June2021.xlsx')"
   ]
  },
  {
   "cell_type": "code",
   "execution_count": null,
   "metadata": {},
   "outputs": [],
   "source": []
  },
  {
   "cell_type": "code",
   "execution_count": null,
   "metadata": {},
   "outputs": [],
   "source": []
  },
  {
   "cell_type": "code",
   "execution_count": null,
   "metadata": {},
   "outputs": [],
   "source": []
  },
  {
   "cell_type": "code",
   "execution_count": null,
   "metadata": {},
   "outputs": [],
   "source": []
  },
  {
   "cell_type": "code",
   "execution_count": null,
   "metadata": {},
   "outputs": [],
   "source": []
  },
  {
   "cell_type": "code",
   "execution_count": null,
   "metadata": {},
   "outputs": [],
   "source": []
  }
 ],
 "metadata": {
  "kernelspec": {
   "display_name": "Python 3",
   "language": "python",
   "name": "python3"
  },
  "language_info": {
   "codemirror_mode": {
    "name": "ipython",
    "version": 3
   },
   "file_extension": ".py",
   "mimetype": "text/x-python",
   "name": "python",
   "nbconvert_exporter": "python",
   "pygments_lexer": "ipython3",
   "version": "3.6.4"
  }
 },
 "nbformat": 4,
 "nbformat_minor": 2
}
