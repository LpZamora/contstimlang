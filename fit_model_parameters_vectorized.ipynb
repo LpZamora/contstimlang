{
 "cells": [
  {
   "cell_type": "code",
   "execution_count": 1,
   "metadata": {},
   "outputs": [],
   "source": [
    "import numpy as np\n",
    "import pandas as pd\n",
    "import matplotlib.pyplot as plt \n",
    "import math\n",
    "import pickle\n",
    "plt.rcParams['figure.dpi']= 200\n",
    "\n",
    "import torch\n",
    "from torch import optim, nn\n",
    "from torch.autograd import Variable"
   ]
  },
  {
   "cell_type": "code",
   "execution_count": 2,
   "metadata": {},
   "outputs": [],
   "source": [
    "task_stim=pd.read_excel('contstim_pilot_n11_spreadsheet.xlsx')\n",
    "task_data=pd.read_csv('data_exp_22452-v9_task-ax2v.csv')"
   ]
  },
  {
   "cell_type": "code",
   "execution_count": null,
   "metadata": {},
   "outputs": [],
   "source": []
  },
  {
   "cell_type": "code",
   "execution_count": 50,
   "metadata": {},
   "outputs": [],
   "source": [
    "models=['bigram','trigram','rnn','lstm','bilstm','bert','bert_whole_word','roberta','xlm','electra','gpt2']\n",
    "\n",
    "prob_dict=dict()\n",
    "for model_name in models:\n",
    "    f = open(model_name+'_expt1_sentence_probs.pkl','rb')\n",
    "    dict1=pickle.load(f)\n",
    "    prob_dict[model_name]=dict1\n",
    "    \n",
    "    \n",
    "events=list(task_data['Event Index'])\n",
    "start_inds=[i for i,e in enumerate(events) if e=='1']\n",
    "\n",
    "fitsets=[]\n",
    "\n",
    "all_sents=[]\n",
    "\n",
    "item_responses=dict()\n",
    "\n",
    "for i,start_ind in enumerate(start_inds):\n",
    "\n",
    "    setnum=task_data['counterbalance-o1ql'][start_ind]\n",
    "\n",
    "    if i==12:\n",
    "        setnum='set 12'\n",
    "\n",
    "    sub=task_data['Participant External Session ID'][start_ind]\n",
    "\n",
    "    model1_list=list(task_stim['sentence1_model_'+setnum])[1:]\n",
    "    model2_list=list(task_stim['sentence2_model_'+setnum])[1:]\n",
    "    sent1_list=list(task_stim['sentence1_'+setnum])[1:]\n",
    "    sent2_list=list(task_stim['sentence2_'+setnum])[1:]\n",
    "\n",
    "    if setnum=='set 1':\n",
    "        source_list=list(task_stim['source'])[1:]\n",
    "\n",
    "    else:\n",
    "        source_list=list(task_stim['source_'+setnum])[1:]\n",
    "\n",
    "    if i<len(start_inds)-1:\n",
    "        responses_list=list(task_data['Response'][start_ind:start_inds[i+1]])\n",
    "\n",
    "    else:\n",
    "        responses_list=list(task_data['Response'][start_ind:])\n",
    "\n",
    "    responses_list=[r for r in responses_list if str(r)!='nan']\n",
    "\n",
    "    item_ids=[]\n",
    "\n",
    "    fitset=[]\n",
    "    \n",
    "    for t in range(110):\n",
    "\n",
    "        source=source_list[t]\n",
    "\n",
    "        model1=model1_list[t]\n",
    "        model2=model2_list[t]\n",
    "        sent1=sent1_list[t]\n",
    "        sent2=sent2_list[t]\n",
    "        \n",
    "        all_sents.append(sent1)\n",
    "        all_sents.append(sent2)\n",
    "\n",
    "        model1_name=model1[:-2]\n",
    "        model2_name=model2[:-2]        \n",
    "\n",
    "        model_ind=models.index(model1_name)\n",
    "\n",
    "        sents=[sent1,sent2]\n",
    "        sents.sort()\n",
    "        item_id='_'.join(sents)\n",
    "        \n",
    "        response=responses_list[t]\n",
    "        \n",
    "        if item_id in item_ids:\n",
    "            continue\n",
    "            \n",
    "        if item_id not in item_responses:\n",
    "            item_responses[item_id]=[sents.index(response)]\n",
    "        else:\n",
    "            item_responses[item_id].append(sents.index(response))\n",
    "        \n",
    "        item_ids.append(item_id)\n",
    "\n",
    "\n",
    "        response_ind=[sent1,sent2].index(response)     \n",
    "        \n",
    "        for model_name in models:#[model1_name]\n",
    "\n",
    "            log_p1=prob_dict[model_name][sent1]\n",
    "            log_p2=prob_dict[model_name][sent2]\n",
    "\n",
    "            fitset.append([model_name,log_p1,log_p2,response_ind])\n",
    "        \n",
    "    fitsets.append(fitset)\n",
    "\n",
    "fitsets_all=[]\n",
    "for fitset in fitsets:\n",
    "    fitsets_all+=fitset\n"
   ]
  },
  {
   "cell_type": "code",
   "execution_count": 51,
   "metadata": {},
   "outputs": [
    {
     "data": {
      "text/plain": [
       "0.2828633252812555"
      ]
     },
     "execution_count": 51,
     "metadata": {},
     "output_type": "execute_result"
    }
   ],
   "source": [
    "human_choice_probs=[]\n",
    "for item in item_responses:\n",
    "    resp_list=item_responses[item]\n",
    "    \n",
    "    human_choice_prob=-1*np.log(np.max([np.sum(resp_list)/len(resp_list),1-np.sum(resp_list)/len(resp_list)]))\n",
    "    \n",
    "    human_choice_probs.append(human_choice_prob)\n",
    "    \n",
    "    \n",
    "np.mean(human_choice_probs)\n",
    "\n"
   ]
  },
  {
   "cell_type": "code",
   "execution_count": 52,
   "metadata": {},
   "outputs": [],
   "source": [
    "minps=[]\n",
    "for m in models:\n",
    "    m=np.min([np.min([trial[1],trial[2]]) for trial in fitsets_all if trial[0]==m])\n",
    "    minps.append(m)\n",
    "    \n",
    "minps=np.abs(minps)\n",
    "\n",
    "\n",
    "maxps=[]\n",
    "for m in models:\n",
    "    m=np.max([np.max([trial[1],trial[2]]) for trial in fitsets_all if trial[0]==m])\n",
    "    maxps.append(m)\n",
    "    \n",
    "maxps=np.abs(maxps)\n",
    "\n"
   ]
  },
  {
   "cell_type": "markdown",
   "metadata": {},
   "source": [
    "To avoid overflow within exponentials when calculating probabilities, we'll use torch.logsumexp where log(exp(x)+1) is required."
   ]
  },
  {
   "cell_type": "code",
   "execution_count": 53,
   "metadata": {},
   "outputs": [
    {
     "name": "stdout",
     "output_type": "stream",
     "text": [
      "log(1+exp(x)) | direct implementation: tensor([ 0.0000, 50.0000,  0.3133,  0.6931,  1.3133, 50.0000,     inf])\n",
      "log(1+exp(x)) | with logsumexp: tensor([  0.0000,  50.0000,   0.3133,   0.6931,   1.3133,  50.0000, 100.0000])\n",
      "log(1/(1+exp(x))) | direct implementation: tensor([  0.0000, -50.0000,  -0.3133,  -0.6931,  -1.3133, -50.0000,     -inf])\n",
      "log(1/(1+exp(x))) | with logsumexp: tensor([  -0.0000,  -50.0000,   -0.3133,   -0.6931,   -1.3133,  -50.0000,\n",
      "        -100.0000])\n",
      "log(1 - 1/(1+exp(x))) | direct implementation: tensor([   -inf,  0.0000, -1.3133, -0.6931, -0.3133,  0.0000,  0.0000])\n",
      "log(1 - 1/(1+exp(x))) | with logsumexp: tensor([-100.0000,    0.0000,   -1.3133,   -0.6931,   -0.3133,    0.0000,\n",
      "           0.0000])\n"
     ]
    }
   ],
   "source": [
    "# this is mathemathically eqivalent to torch.log(1+torch.exp(x)) but it doesn't overflow when x is big.\n",
    "log_1_plus_exp_x=lambda x: torch.logsumexp(torch.stack((x,torch.zeros_like(x)),dim=-1),dim=1)\n",
    "\n",
    "# this is mathemathically equivalent to log(1/(1+exp(x)))\n",
    "log_p=lambda x: -log_1_plus_exp_x(x) \n",
    "\n",
    "# this is mathemathically equivalent to log(1 - 1/(1+exp(x)) )\n",
    "log_1_minus_p=lambda x: x+log_p(x)\n",
    "\n",
    "x=torch.tensor([-100.0,50.0,-1.0,0.0,1.0,50.0,100.0])\n",
    "print('log(1+exp(x)) | direct implementation:', torch.log(1+torch.exp(x)))\n",
    "print('log(1+exp(x)) | with logsumexp:', log_1_plus_exp_x(x))\n",
    "\n",
    "print('log(1/(1+exp(x))) | direct implementation:', torch.log(1/(1+torch.exp(x))))\n",
    "print('log(1/(1+exp(x))) | with logsumexp:', log_p(x))\n",
    "\n",
    "print('log(1 - 1/(1+exp(x))) | direct implementation:', torch.log(1-1/(1+torch.exp(x))))\n",
    "print('log(1 - 1/(1+exp(x))) | with logsumexp:', log_1_minus_p(x))"
   ]
  },
  {
   "cell_type": "code",
   "execution_count": 89,
   "metadata": {},
   "outputs": [],
   "source": [
    "\n",
    "class ModelToHumanDecision():\n",
    "    def _set_initial_parameters(self):\n",
    "        raise NotImplementedError\n",
    "        \n",
    "    def __init__(self,model_name_list,parameters=None,device=None):\n",
    "        if device is None:\n",
    "            device='cpu'\n",
    "        \n",
    "        self.device=torch.device(device)\n",
    "        self.model_name_list=model_name_list\n",
    "        self.n_models=len(model_name_list)\n",
    "        \n",
    "        if parameters is None:\n",
    "            self.parameters=self._initial_parameters()\n",
    "        else:\n",
    "            self.parameters={key:torch.tensor(value,device=self.device,dtype=torch.float64) for (key,value) in parameters.items()}\n",
    "\n",
    "    def _f(self,log_p1,log_p2,cur_parameters):\n",
    "        raise NotImplementedError\n",
    "        \n",
    "    def decision_NLL(self,log_p1,log_p2,model=None):\n",
    "        \n",
    "        log_p1=torch.as_tensor(log_p1,device=self.device,dtype=torch.float64)\n",
    "        log_p2=torch.as_tensor(log_p2,device=self.device,dtype=torch.float64)\n",
    "        \n",
    "        if model is None: # evaluate all models. # log_p1, log_p2 (n_models,n_sentence_pairs)\n",
    "            assert log_p1.ndim==2 and log_p1.shape[0]==self.n_models and log_p2.ndim==3 and log_p2.shape[0]==self.n_models \n",
    "            slicer=...\n",
    "        elif type(model) is str: # one particular model specified by its name\n",
    "            slicer=self.model_name_list.index(model)\n",
    "        elif type(model) is int: # one particular model specified by its index\n",
    "            slicer=model\n",
    "        elif type(model) is list: # a list of model names\n",
    "            slicer=torch.tensor([self.model_name_list.index(m) for m in model])\n",
    "        else:\n",
    "            raise \n",
    "        cur_parameters={}\n",
    "        \n",
    "#         print(self.parameters.items())\n",
    "#         sys.e\n",
    "        \n",
    "        for par_name, par in self.parameters.items():\n",
    "            if par.nelement()==1:\n",
    "                cur_parameters[par_name]=par\n",
    "            else:\n",
    "                cur_parameters[par_name]=par[slicer]\n",
    "        return self._f(log_p1,log_p2,cur_parameters)\n",
    "    \n",
    "    def get_parameters(self):\n",
    "        numpy_parameters={}\n",
    "        for par_name, par in self.parameters.items():\n",
    "            if par.nelement()==1:\n",
    "                numpy_parameters[par_name]=par.item()\n",
    "            else:\n",
    "                numpy_parameters[par_name]=par.detach().cpu().numpy()\n",
    "        return numpy_parameters\n",
    "\n",
    "class FixedWidthSquashing(ModelToHumanDecision):\n",
    "    def _initial_parameters(self):\n",
    "        parameters={}\n",
    "        parameters['squashes']=torch.ones(self.n_models,device=self.device)*200.0 # this doesn't work\n",
    "        parameters['gamma']=torch.tensor(10.0,device=self.device)\n",
    "        return parameters\n",
    "    def _f(self,log_p1,log_p2,cur_parameters):\n",
    "        gamma=cur_parameters['gamma']\n",
    "        squash_threshold=cur_parameters['squashes']     \n",
    "        width=1.0\n",
    "        log_p1_corrected=width*log_1_plus_exp_x((log_p1+squash_threshold)/width)-squash_threshold\n",
    "        log_p2_corrected=width*log_1_plus_exp_x((log_p2+squash_threshold)/width)-squash_threshold\n",
    "        s1a_b = log_p1_corrected - log_p2_corrected\n",
    "#         p1=1/(1+torch.exp(-(s1a_b)/gamma))\n",
    "#         p2=1-p1\n",
    "#         choice_NLL=-torch.log(torch.stack([p1,p2],dim=-1))        \n",
    "        log_p1=log_p(-s1a_b/gamma)\n",
    "        log_p2=log_1_minus_p(-s1a_b/gamma)\n",
    "        choice_NLL=-torch.stack([log_p1,log_p2],dim=-1)\n",
    "        return choice_NLL\n",
    "\n",
    "    \n",
    "class FixedWidthSquashingVariableGamma(ModelToHumanDecision):\n",
    "    def _initial_parameters(self):\n",
    "        parameters={}\n",
    "        parameters['squashes']=torch.ones(self.n_models,device=self.device)*200.0 # this doesn't work\n",
    "        parameters['gamma']=torch.ones(self.n_models,device=self.device)*10.0\n",
    "        return parameters\n",
    "    \n",
    "    def _f(self,log_p1,log_p2,cur_parameters):\n",
    "        gamma=cur_parameters['gamma']\n",
    "        squash_threshold=cur_parameters['squashes']     \n",
    "        width=1.0\n",
    "        log_p1_corrected=width*log_1_plus_exp_x((log_p1+squash_threshold)/width)-squash_threshold\n",
    "        log_p2_corrected=width*log_1_plus_exp_x((log_p2+squash_threshold)/width)-squash_threshold\n",
    "        #log_p1_corrected=width*torch.log(1+math.e**((log_p1+squash_threshold)/width))-squash_threshold\n",
    "        #log_p2_corrected=width*torch.log(1+math.e**((log_p2+squash_threshold)/width))-squash_threshold\n",
    "        s1a_b = log_p1_corrected - log_p2_corrected\n",
    "#         p1=1/(1+torch.exp(-(s1a_b)/gamma))\n",
    "#         p2=1-p1\n",
    "#         choice_NLL=-torch.log(torch.stack([p1,p2],dim=-1))\n",
    "        log_p1=log_p(-s1a_b/gamma)\n",
    "        log_p2=log_1_minus_p(-s1a_b/gamma)\n",
    "        choice_NLL=-torch.stack([log_p1,log_p2],dim=-1)\n",
    "        return choice_NLL\n",
    "\n",
    "class VariableWidthSquashing(ModelToHumanDecision):\n",
    "    def _initial_parameters(self):\n",
    "        parameters={}\n",
    "        parameters['squashes']=torch.ones(self.n_models,device=self.device)*200.0 # this doesn't work\n",
    "        parameters['gamma']=torch.tensor(10.0,device=self.device)\n",
    "        parameters['width']=torch.ones(self.n_models,device=self.device)        \n",
    "        return parameters\n",
    "    \n",
    "    def _f(self,log_p1,log_p2,cur_parameters):\n",
    "        gamma=cur_parameters['gamma']\n",
    "        squash_threshold=cur_parameters['squashes']     \n",
    "        width=torch.nn.Softplus()(cur_parameters['width'])+1e-1\n",
    "        log_p1_corrected=width*log_1_plus_exp_x((log_p1+squash_threshold)/width)-squash_threshold\n",
    "        log_p2_corrected=width*log_1_plus_exp_x((log_p2+squash_threshold)/width)-squash_threshold\n",
    "#         log_p1_corrected=width*torch.log(1+torch.exp((log_p1+squash_threshold)/width))-squash_threshold\n",
    "#         log_p2_corrected=width*torch.log(1+torch.exp((log_p2+squash_threshold)/width))-squash_threshold\n",
    "        s1a_b = log_p1_corrected - log_p2_corrected\n",
    "        log_p1=log_p(-s1a_b/gamma)\n",
    "        log_p2=log_1_minus_p(-s1a_b/gamma)\n",
    "        choice_NLL=-torch.stack([log_p1,log_p2],dim=-1)\n",
    "#         p1=1/(1+torch.exp(-(s1a_b)/gamma))\n",
    "#         p2=1-p1\n",
    "#         choice_NLL=-torch.log(torch.stack([p1,p2],dim=-1))\n",
    "        return choice_NLL\n",
    "\n",
    "\n",
    "class VariableWidthSquashingVariableGamma(ModelToHumanDecision):\n",
    "    def _initial_parameters(self):\n",
    "        parameters={}\n",
    "        parameters['squashes']=torch.ones(self.n_models,device=self.device)*200.0 # this doesn't work\n",
    "        parameters['gamma']=torch.ones(self.n_models,device=self.device)*10.0\n",
    "        parameters['width']=torch.ones(self.n_models,device=self.device)\n",
    "\n",
    "        return parameters\n",
    "    def _f(self,log_p1,log_p2,cur_parameters):\n",
    "        gamma=cur_parameters['gamma']\n",
    "        squash_threshold=cur_parameters['squashes']     \n",
    "        width=torch.nn.Softplus()(cur_parameters['width'])+1e-1\n",
    "        log_p1_corrected=width*log_1_plus_exp_x((log_p1+squash_threshold)/width)-squash_threshold\n",
    "        log_p2_corrected=width*log_1_plus_exp_x((log_p2+squash_threshold)/width)-squash_threshold\n",
    "#         log_p1_corrected=width*torch.log(1+math.e**((log_p1+squash_threshold)/width))-squash_threshold\n",
    "#         log_p2_corrected=width*torch.log(1+math.e**((log_p2+squash_threshold)/width))-squash_threshold\n",
    "        s1a_b = log_p1_corrected - log_p2_corrected\n",
    "        log_p1=log_p(-s1a_b/gamma)\n",
    "        log_p2=log_1_minus_p(-s1a_b/gamma)\n",
    "        choice_NLL=-torch.stack([log_p1,log_p2],dim=-1)\n",
    "#         p1=1/(1+torch.exp(-(s1a_b)/gamma))\n",
    "#         p2=1-p1\n",
    "#         choice_NLL=-torch.log(torch.stack([p1,p2],dim=-1))\n",
    "        return choice_NLL\n",
    "    \n",
    "\n",
    "class VariableGammaNoSquash(ModelToHumanDecision):\n",
    "    def _initial_parameters(self):\n",
    "        parameters={}\n",
    "        parameters['gamma']=torch.ones(self.n_models,device=self.device)*10.0\n",
    "        return parameters\n",
    "    def _f(self,log_p1,log_p2,cur_parameters):\n",
    "        gamma=cur_parameters['gamma']\n",
    "        s1a_b = log_p1 - log_p2\n",
    "        p1=1/(1+torch.exp(-(s1a_b)/gamma))\n",
    "        p2=1-p1\n",
    "        choice_NLL=-torch.log(torch.stack([p1,p2],dim=-1))\n",
    "        return choice_NLL\n",
    "    \n",
    "class SquashedSoftmax(ModelToHumanDecision):\n",
    "    def _initial_parameters(self):\n",
    "        parameters={}\n",
    "        parameters['gamma']=torch.ones(self.n_models,device=self.device)*10.0\n",
    "        parameters['eta']=torch.ones(self.n_models,device=self.device)*(0.0)\n",
    "        return parameters\n",
    "    def _f(self,log_p1,log_p2,cur_parameters):\n",
    "        gamma=cur_parameters['gamma']\n",
    "        eta=cur_parameters['eta']\n",
    "        \n",
    "        denominator=torch.logsumexp(torch.stack([log_p1/gamma,torch.ones_like(log_p1)*eta,log_p2/gamma,torch.ones_like(log_p2)*eta],dim=-1),dim=-1)\n",
    "        log_p1 = torch.logsumexp(torch.stack([log_p1/gamma,torch.ones_like(log_p1)*eta],dim=-1),dim=-1)-denominator\n",
    "        log_p2 = torch.logsumexp(torch.stack([log_p2/gamma,torch.ones_like(log_p2)*eta],dim=-1),dim=-1)-denominator\n",
    "        choice_NLL=-torch.stack([log_p1,log_p2],dim=-1)\n",
    "        return choice_NLL    "
   ]
  },
  {
   "cell_type": "code",
   "execution_count": null,
   "metadata": {},
   "outputs": [],
   "source": []
  },
  {
   "cell_type": "code",
   "execution_count": 91,
   "metadata": {
    "scrolled": true
   },
   "outputs": [
    {
     "name": "stdout",
     "output_type": "stream",
     "text": [
      "0\n",
      "\n",
      "loss: tensor(10.3490, grad_fn=<AddBackward0>)\n",
      "gamma tensor([10., 10., 10., 10., 10., 10., 10., 10., 10., 10., 10.],\n",
      "       dtype=torch.float64, requires_grad=True)\n",
      "\n",
      "loss: tensor(6.8869, grad_fn=<AddBackward0>)\n",
      "gamma tensor([31.8335, 32.6852, 39.3416, 39.5400, 35.9329, 35.4862, 36.7485, 35.5184,\n",
      "        36.1569, 35.2928, 34.8076], dtype=torch.float64, requires_grad=True)\n",
      "\n",
      "loss: tensor(6.8663, grad_fn=<AddBackward0>)\n",
      "gamma tensor([32.6920, 33.9598, 45.8873, 46.1914, 39.5871, 38.8304, 41.0978, 38.8254,\n",
      "        40.0285, 38.4412, 37.5812], dtype=torch.float64, requires_grad=True)\n",
      "\n",
      "loss: tensor(6.8623, grad_fn=<AddBackward0>)\n",
      "gamma tensor([32.7854, 34.1572, 49.6339, 49.9986, 41.0306, 40.0722, 43.0557, 40.0335,\n",
      "        41.6347, 39.5458, 38.4566], dtype=torch.float64, requires_grad=True)\n",
      "\n",
      "loss: tensor(6.8612, grad_fn=<AddBackward0>)\n",
      "gamma tensor([32.7889, 34.1718, 51.9144, 52.3170, 41.5447, 40.4738, 43.9049, 40.4147,\n",
      "        42.2508, 39.8731, 38.6758], dtype=torch.float64, requires_grad=True)\n",
      "\n",
      "loss: tensor(6.8609, grad_fn=<AddBackward0>)\n",
      "gamma tensor([32.7889, 34.1721, 53.3137, 53.7405, 41.6978, 40.5783, 44.2369, 40.5106,\n",
      "        42.4542, 39.9484, 38.7155], dtype=torch.float64, requires_grad=True)\n",
      "\n",
      "loss: tensor(6.8608, grad_fn=<AddBackward0>)\n",
      "gamma tensor([32.7889, 34.1721, 54.1565, 54.5985, 41.7342, 40.5992, 44.3494, 40.5290,\n",
      "        42.5095, 39.9612, 38.7204], dtype=torch.float64, requires_grad=True)\n",
      "\n",
      "loss: tensor(6.8608, grad_fn=<AddBackward0>)\n",
      "gamma tensor([32.7889, 34.1721, 54.6460, 55.0974, 41.7410, 40.6024, 44.3816, 40.5315,\n",
      "        42.5216, 39.9628, 38.7208], dtype=torch.float64, requires_grad=True)\n",
      "\n",
      "loss: tensor(6.8608, grad_fn=<AddBackward0>)\n",
      "gamma tensor([32.7889, 34.1721, 54.9170, 55.3739, 41.7420, 40.6027, 44.3893, 40.5318,\n",
      "        42.5237, 39.9629, 38.7208], dtype=torch.float64, requires_grad=True)\n",
      "\n",
      "loss: tensor(6.8608, grad_fn=<AddBackward0>)\n",
      "gamma tensor([32.7889, 34.1721, 55.0586, 55.5186, 41.7421, 40.6027, 44.3908, 40.5318,\n",
      "        42.5240, 39.9629, 38.7208], dtype=torch.float64, requires_grad=True)\n",
      "\n",
      "loss: tensor(6.8608, grad_fn=<AddBackward0>)\n",
      "gamma tensor([32.7889, 34.1721, 55.1279, 55.5896, 41.7421, 40.6027, 44.3911, 40.5318,\n",
      "        42.5240, 39.9629, 38.7208], dtype=torch.float64, requires_grad=True)\n",
      "\n",
      "loss: tensor(6.8608, grad_fn=<AddBackward0>)\n",
      "gamma tensor([32.7889, 34.1721, 55.1596, 55.6220, 41.7421, 40.6027, 44.3911, 40.5318,\n",
      "        42.5241, 39.9629, 38.7208], dtype=torch.float64, requires_grad=True)\n",
      "\n",
      "{'gamma': array([32.78886209, 34.17214361, 55.16175092, 55.62420833, 41.74207946,\n",
      "       40.60272268, 44.39112028, 40.53182365, 42.52405085, 39.96289662,\n",
      "       38.72084009])}\n",
      "total loss: tensor(6.8608, grad_fn=<AddBackward0>)\n",
      "bigram 0.62\n",
      "trigram 0.62\n",
      "rnn 0.63\n",
      "lstm 0.62\n",
      "bilstm 0.62\n",
      "bert 0.63\n",
      "bert_whole_word 0.63\n",
      "roberta 0.62\n",
      "xlm 0.62\n",
      "electra 0.62\n",
      "gpt2 0.62\n"
     ]
    },
    {
     "ename": "KeyError",
     "evalue": "'squashes'",
     "output_type": "error",
     "traceback": [
      "\u001b[0;31m---------------------------------------------------------------------------\u001b[0m",
      "\u001b[0;31mKeyError\u001b[0m                                  Traceback (most recent call last)",
      "\u001b[0;32m<ipython-input-91-8b82835b0692>\u001b[0m in \u001b[0;36m<module>\u001b[0;34m\u001b[0m\n\u001b[1;32m     81\u001b[0m         \u001b[0mprint\u001b[0m\u001b[0;34m(\u001b[0m\u001b[0;34m'{} {:.2f}'\u001b[0m\u001b[0;34m.\u001b[0m\u001b[0mformat\u001b[0m\u001b[0;34m(\u001b[0m\u001b[0mmodel1_name\u001b[0m\u001b[0;34m,\u001b[0m\u001b[0mmodel_loss\u001b[0m\u001b[0;34m[\u001b[0m\u001b[0mi_model\u001b[0m\u001b[0;34m]\u001b[0m\u001b[0;34m.\u001b[0m\u001b[0mitem\u001b[0m\u001b[0;34m(\u001b[0m\u001b[0;34m)\u001b[0m\u001b[0;34m)\u001b[0m\u001b[0;34m)\u001b[0m\u001b[0;34m\u001b[0m\u001b[0;34m\u001b[0m\u001b[0m\n\u001b[1;32m     82\u001b[0m \u001b[0;34m\u001b[0m\u001b[0m\n\u001b[0;32m---> 83\u001b[0;31m     \u001b[0msquashes\u001b[0m\u001b[0;34m=\u001b[0m\u001b[0mlist\u001b[0m\u001b[0;34m(\u001b[0m\u001b[0mdecision_model\u001b[0m\u001b[0;34m.\u001b[0m\u001b[0mparameters\u001b[0m\u001b[0;34m[\u001b[0m\u001b[0;34m'squashes'\u001b[0m\u001b[0;34m]\u001b[0m\u001b[0;34m.\u001b[0m\u001b[0mdata\u001b[0m\u001b[0;34m.\u001b[0m\u001b[0mnumpy\u001b[0m\u001b[0;34m(\u001b[0m\u001b[0;34m)\u001b[0m\u001b[0;34m)\u001b[0m\u001b[0;34m\u001b[0m\u001b[0;34m\u001b[0m\u001b[0m\n\u001b[0m\u001b[1;32m     84\u001b[0m     \u001b[0mgammas\u001b[0m\u001b[0;34m=\u001b[0m\u001b[0mlist\u001b[0m\u001b[0;34m(\u001b[0m\u001b[0mdecision_model\u001b[0m\u001b[0;34m.\u001b[0m\u001b[0mparameters\u001b[0m\u001b[0;34m[\u001b[0m\u001b[0;34m'gamma'\u001b[0m\u001b[0;34m]\u001b[0m\u001b[0;34m.\u001b[0m\u001b[0mdata\u001b[0m\u001b[0;34m.\u001b[0m\u001b[0mnumpy\u001b[0m\u001b[0;34m(\u001b[0m\u001b[0;34m)\u001b[0m\u001b[0;34m)\u001b[0m\u001b[0;34m\u001b[0m\u001b[0;34m\u001b[0m\u001b[0m\n\u001b[1;32m     85\u001b[0m     \u001b[0;31m#gammas=float(decision_model.parameters['gamma'])\u001b[0m\u001b[0;34m\u001b[0m\u001b[0;34m\u001b[0m\u001b[0;34m\u001b[0m\u001b[0m\n",
      "\u001b[0;31mKeyError\u001b[0m: 'squashes'"
     ]
    }
   ],
   "source": [
    "\n",
    "from collections import defaultdict\n",
    "\n",
    "\n",
    "\n",
    "# parameters={'squashes':minps,'gamma':10.0}\n",
    "# model_class=FixedWidthSquashing\n",
    "\n",
    "# parameters={'squashes':minps,'gamma':10.0,'width':np.ones(len(models))}\n",
    "# model_class=VariableWidthSquashing\n",
    "\n",
    "parameters={'squashes':minps,'gamma':np.ones_like(minps)*10.0}\n",
    "model_class=FixedWidthSquashingVariableGamma\n",
    "\n",
    "# parameters={'gamma':np.ones_like(minps)*10.0}\n",
    "# model_class=VariableGammaNoSquash\n",
    "\n",
    "# parameters={'squashes':minps,'gamma':np.ones_like(minps)*10.0,'width':np.ones(len(models))}\n",
    "# model_class=VariableWidthSquashingVariableGamma\n",
    "\n",
    "# parameters=None # use defaults\n",
    "# model_class=SquashedSoftmax\n",
    "\n",
    "device='cpu'\n",
    "\n",
    "for boot in range(1):\n",
    "    \n",
    "    boots=np.random.choice(13, 13)\n",
    "    boots=np.arange(13)\n",
    "    \n",
    "    fitset=[]\n",
    "    for b in boots:\n",
    "        fitset+=fitsets[b]\n",
    "    \n",
    "    decision_model=model_class(model_name_list=models,parameters=parameters,device=device)\n",
    "\n",
    "    for par in decision_model.parameters.values():\n",
    "        par.requires_grad=True\n",
    "        \n",
    "    opt = optim.Adam(decision_model.parameters.values(),lr=1)\n",
    "\n",
    "    print(boot)\n",
    "    print('')\n",
    "\n",
    "    # build models by trials by sentences log-prob matrix\n",
    "    \n",
    "    log_p1=defaultdict(list)\n",
    "    log_p2=defaultdict(list)\n",
    "    response_ind=defaultdict(list)\n",
    "    \n",
    "    for trial in fitset:\n",
    "        model1_name=trial[0]\n",
    "        log_p1[model1_name].append(trial[1])\n",
    "        log_p2[model1_name].append(trial[2])\n",
    "        response_ind[model1_name].append(trial[3])\n",
    "    \n",
    "    for epoch in range(1000): # for some models, one needs more than 200 epochs for convergence. I'd replace this loop with a convergence criterion.\n",
    "\n",
    "        loss = torch.tensor(0.,device=device,requires_grad = True)\n",
    "        \n",
    "        model_loss=torch.zeros((len(models)),device=device)\n",
    "        for i_model,model1_name in enumerate(models):\n",
    "            log_p_sent=decision_model.decision_NLL(log_p1[model1_name],log_p2[model1_name],model=model1_name)\n",
    "            take_by_2nd_dim=lambda x, idx: x[torch.arange(x.size(0)), idx] \n",
    "            log_p_choice=take_by_2nd_dim(log_p_sent,response_ind[model1_name])\n",
    "            model_loss[i_model]=log_p_choice.mean()\n",
    "            loss=loss+model_loss[i_model]\n",
    "            \n",
    "        if epoch%90==0:\n",
    "            print('loss:',loss)\n",
    "            for par_name, par in decision_model.parameters.items():\n",
    "                print(par_name,par)\n",
    "            print('')\n",
    "\n",
    "        loss.backward()\n",
    "        opt.step()\n",
    "        opt.zero_grad()\n",
    "    \n",
    "    print(decision_model.get_parameters())\n",
    "    print('total loss:',loss)\n",
    "    for i_model,model1_name in enumerate(models):\n",
    "        print('{} {:.2f}'.format(model1_name,model_loss[i_model].item()))\n",
    "    \n",
    "    squashes=list(decision_model.parameters['squashes'].data.numpy())\n",
    "    gammas=list(decision_model.parameters['gamma'].data.numpy())\n",
    "    #gammas=float(decision_model.parameters['gamma'])\n",
    "    \n",
    "    if boot==0:\n",
    "        squash_boots=[squashes]\n",
    "        gamma_boots=[gammas]\n",
    "        losses=[[model_loss[i_model].item() for i_model in range(11)]]\n",
    "    else:\n",
    "        squash_boots.append(squashes)\n",
    "        gamma_boots.append(gammas)\n",
    "        losses.append([model_loss[i_model].item() for i_model in range(11)])\n"
   ]
  },
  {
   "cell_type": "code",
   "execution_count": null,
   "metadata": {},
   "outputs": [],
   "source": [
    "gT=np.array(gamma_boots).T\n",
    "sT=np.array(squash_boots).T\n",
    "\n",
    "ccs=[]\n",
    "for i in range(11):\n",
    "    \n",
    "    cc=np.corrcoef(sT[i,:],gT[i,:])[0,1]\n",
    "    ccs.append(cc)\n",
    "    \n",
    "ccs\n",
    "\n",
    "\n"
   ]
  },
  {
   "cell_type": "code",
   "execution_count": 34,
   "metadata": {},
   "outputs": [
    {
     "data": {
      "text/plain": [
       "-6.907755278982137"
      ]
     },
     "execution_count": 34,
     "metadata": {},
     "output_type": "execute_result"
    }
   ],
   "source": []
  },
  {
   "cell_type": "code",
   "execution_count": null,
   "metadata": {},
   "outputs": [],
   "source": [
    "#synthetic\n",
    "\n",
    "# tensor(671.4779, device='cuda:0', dtype=torch.float64, grad_fn=<AddBackward0>)\n",
    "# tensor([129.5626, 128.7844,  84.1193,  92.4041, 111.8108, 105.3416,  83.8154,\n",
    "#         116.5818,  87.0363,  60.6492,  81.0560], device='cuda:0',\n",
    "#        dtype=torch.float64, requires_grad=True)\n",
    "# tensor([29.8585, 10.0000, 10.0000, 10.0000, 10.0000, 10.0000, 10.0000, 10.0000,\n",
    "#         10.0000, 10.0000, 10.0000], device='cuda:0', requires_grad=True)\n",
    "\n",
    "\n",
    "#natural\n",
    "\n",
    "# tensor(148.7837, device='cuda:0', dtype=torch.float64, grad_fn=<AddBackward0>)\n",
    "# tensor([115.8415,  84.2844,  72.0876,  43.8699,  54.9998,  50.4821,  69.6983,\n",
    "#          49.1065,  42.4528,  34.6840,  59.5816], device='cuda:0',\n",
    "#        dtype=torch.float64, requires_grad=True)\n",
    "# tensor([ 9.1418, 10.0000, 10.0000, 10.0000, 10.0000, 10.0000, 10.0000, 10.0000,\n",
    "#         10.0000, 10.0000, 10.0000], device='cuda:0', requires_grad=True)\n",
    "\n",
    "\n",
    "# tensor(829.6835, device='cuda:0', dtype=torch.float64, grad_fn=<AddBackward0>)\n",
    "# tensor([129.1968, 127.7177,  83.4297,  91.0015, 111.4391, 104.3089,  83.3092,\n",
    "#         115.3282,  85.6379,  59.8025,  79.7266], device='cuda:0',\n",
    "#        dtype=torch.float64, requires_grad=True)\n",
    "# tensor([28.2664, 10.0000, 10.0000, 10.0000, 10.0000, 10.0000, 10.0000, 10.0000,\n",
    "#         10.0000, 10.0000, 10.0000], device='cuda:0', requires_grad=True)\n"
   ]
  },
  {
   "cell_type": "code",
   "execution_count": 52,
   "metadata": {},
   "outputs": [],
   "source": [
    "# squash_boots=np.array([[136.6031, 130.6315,  88.2857, 127.1014, 124.6718, 110.4878,  84.6417,\n",
    "#         118.1435, 107.7737,  63.0790,  79.9143],\n",
    "#               [137.9003, 125.7105,  84.5635, 127.1772, 112.0871,  94.5774,  78.6344,\n",
    "#         114.0863,  95.4273,  58.2541,  79.6323],\n",
    "#               [131.8761, 133.7181, 147.7142, 143.2530, 110.6293, 134.2203,  83.7578,\n",
    "#         139.0220,  82.7407,  66.7261,  79.2919],\n",
    "#               [139.6443, 135.6945,  80.5810,  94.8058, 116.6113, 103.0531,  87.4392,\n",
    "#         119.7775,  81.2322,  60.9193,  81.1773],\n",
    "#               [132.4967, 128.7608,  92.4549,  91.8489, 110.4346, 104.1544,  80.5317,\n",
    "#         126.0785, 124.9601,  57.4880,  76.9285],\n",
    "#               [128.2988, 112.9426,  80.0811,  90.9844, 111.0652, 115.8396,  56.3730,\n",
    "#          78.9889, 120.2621,  29.6331,  61.9582],\n",
    "#               [127.7181, 132.9688, 148.8201,  94.7272, 109.7225,  87.5404,  81.3132,\n",
    "#         115.8013, 116.9241,  64.7583,  73.5550],\n",
    "#               [120.8540, 116.8421, 135.4461,  88.5892, 124.1079, 133.7935,  86.1704,\n",
    "#         100.1683,  92.7386,  49.7565,  79.4477],\n",
    "#               [125.4391, 114.5180,  82.5459,  87.4416, 110.8198,  93.8739,  63.4568,\n",
    "#         117.9814,  83.9064,  57.2624,  77.2107],\n",
    "#               [129.6447, 129.3590,  86.6444,  92.5276, 109.5141, 105.0256,  65.8152,\n",
    "#         117.5682, 125.8277,  59.4612,  77.8789]])\n",
    "\n",
    "s=squash_boots\n",
    "\n",
    "squash_boots=np.array(losses).T\n",
    "squash_boots.sort()\n",
    "squash_boots=squash_boots.T"
   ]
  },
  {
   "cell_type": "code",
   "execution_count": 54,
   "metadata": {},
   "outputs": [
    {
     "data": {
      "image/png": "[encoded data removed]",
      "text/plain": [
       "<Figure size 1200x800 with 1 Axes>"
      ]
     },
     "metadata": {
      "needs_background": "light"
     },
     "output_type": "display_data"
    }
   ],
   "source": [
    "#squash_boots=squash_boots.reshape([10,11])\n",
    "\n",
    "\n",
    "\n",
    "x=np.arange(11)*2\n",
    "# plt.bar(x-0.2, maxps, width=0.1, color=[1,0,0])\n",
    "plt.bar(x-0.1, squash_boots[0], width=0.1, color=[0,0,1])\n",
    "plt.bar(x, squash_boots[1], width=0.1, color=[0,0,1])\n",
    "plt.bar(x+0.1, squash_boots[2], width=0.1, color=[0,0,1])\n",
    "plt.bar(x+0.2, squash_boots[3], width=0.1, color=[0,0,1])\n",
    "plt.bar(x+0.3, squash_boots[4], width=0.1, color=[0,0,1])\n",
    "plt.bar(x+0.4, squash_boots[5], width=0.1, color=[0,0,1])\n",
    "plt.bar(x+0.5, squash_boots[6], width=0.1, color=[0,0,1])\n",
    "plt.bar(x+0.6, squash_boots[7], width=0.1, color=[0,0,1])\n",
    "plt.bar(x+0.7, squash_boots[8], width=0.1, color=[0,0,1])\n",
    "plt.bar(x+0.8, squash_boots[9], width=0.1, color=[0,0,1])\n",
    "# plt.bar(x+0.9, minps, width=0.1, color=[1,0,0])\n",
    "\n",
    "# plt.ylabel('Squash Thresholds')\n",
    "plt.ylabel('Negative log likelihood')\n",
    "plt.xticks(x,models,rotation=70)\n",
    "\n",
    "# plt.ylim([800,950])\n",
    "\n",
    "legs=['Min/Max baseline','Squash thresholds']\n",
    "# plt.legend(legs,bbox_to_anchor=(1, 0.3, 0.2, 0.5))"
   ]
  },
  {
   "cell_type": "code",
   "execution_count": null,
   "metadata": {},
   "outputs": [],
   "source": [
    "squash_boots"
   ]
  },
  {
   "cell_type": "code",
   "execution_count": null,
   "metadata": {},
   "outputs": [],
   "source": []
  },
  {
   "cell_type": "code",
   "execution_count": null,
   "metadata": {},
   "outputs": [],
   "source": []
  },
  {
   "cell_type": "code",
   "execution_count": null,
   "metadata": {},
   "outputs": [],
   "source": []
  },
  {
   "cell_type": "code",
   "execution_count": null,
   "metadata": {},
   "outputs": [],
   "source": []
  },
  {
   "cell_type": "code",
   "execution_count": null,
   "metadata": {},
   "outputs": [],
   "source": []
  },
  {
   "cell_type": "code",
   "execution_count": 33,
   "metadata": {},
   "outputs": [
    {
     "data": {
      "text/plain": [
       "array([[140.29117373, 150.75698377, 145.80932154, 143.99388697,\n",
       "        177.31373974, 153.27990117, 139.63242063, 150.57327311,\n",
       "        150.54922929, 150.42798408],\n",
       "       [129.24877692, 139.86180678, 135.5419875 , 131.18333257,\n",
       "        163.37711984, 162.05709665, 128.51316508, 155.62589788,\n",
       "        149.35908846, 139.9943368 ],\n",
       "       [204.12534031, 204.14486678, 204.08978792, 204.23991628,\n",
       "        196.73882873, 204.20927586, 196.63301314, 204.04086252,\n",
       "        204.24834932, 204.03396348],\n",
       "       [ 89.07134066,  95.91302419, 209.32015661, 209.81326758,\n",
       "        207.01851519,  96.19709064,  91.00762092, 209.24503421,\n",
       "        209.71241912,  96.3306568 ],\n",
       "       [ 84.05881709,  90.55089208,  86.81947642,  87.22912904,\n",
       "        121.37113893,  93.07116699,  83.51733044,  90.38951254,\n",
       "         88.94565658,  88.46063076],\n",
       "       [166.68818907,  94.3503403 ,  88.21564702,  98.35612372,\n",
       "        139.76436302,  94.10901182, 140.01693247,  98.98451306,\n",
       "        166.67745248,  89.46691221],\n",
       "       [165.32027697,  96.60948761,  89.0309272 , 159.17731361,\n",
       "        133.02110422,  95.98512518, 137.34569176,  96.29549992,\n",
       "        165.27932521,  89.62810188],\n",
       "       [ 94.06777921, 102.22616288,  98.28446315, 100.2935804 ,\n",
       "        140.70098565, 109.80059609,  94.74752496,  99.5802595 ,\n",
       "         99.40498928,  98.79074275],\n",
       "       [ 85.6974083 ,  95.94619256,  90.83371836,  95.00309606,\n",
       "        134.73857926,  95.29175454,  82.27545747,  94.60848732,\n",
       "         90.58089076,  90.0498806 ],\n",
       "       [147.8946742 ,  89.03009209,  83.55545258,  91.09582581,\n",
       "        123.10616639,  84.87717652, 128.4669498 ,  83.88082872,\n",
       "         85.68002054,  82.2327945 ],\n",
       "       [ 82.93613582,  99.34989183,  90.63882485,  91.9081728 ,\n",
       "        141.00636124, 102.97988528,  82.2997319 , 143.74672187,\n",
       "        107.9662767 , 143.78672776]])"
      ]
     },
     "execution_count": 33,
     "metadata": {},
     "output_type": "execute_result"
    }
   ],
   "source": [
    "sT"
   ]
  },
  {
   "cell_type": "code",
   "execution_count": null,
   "metadata": {},
   "outputs": [],
   "source": [
    "d=squash_boots.T"
   ]
  },
  {
   "cell_type": "code",
   "execution_count": null,
   "metadata": {},
   "outputs": [],
   "source": [
    "\n",
    "d=np.array([f.sort() for f in d])"
   ]
  },
  {
   "cell_type": "code",
   "execution_count": null,
   "metadata": {},
   "outputs": [],
   "source": [
    "d"
   ]
  },
  {
   "cell_type": "code",
   "execution_count": null,
   "metadata": {},
   "outputs": [],
   "source": [
    "squash_boots=d.T"
   ]
  },
  {
   "cell_type": "code",
   "execution_count": null,
   "metadata": {},
   "outputs": [],
   "source": [
    "slist=list(set(all_sents))"
   ]
  },
  {
   "cell_type": "code",
   "execution_count": null,
   "metadata": {},
   "outputs": [],
   "source": [
    "file=open('test_sents_expt1_first13subs.txt','w')\n",
    "for s in slist:\n",
    "    file.write(s)\n",
    "    file.write('\\n')"
   ]
  },
  {
   "cell_type": "code",
   "execution_count": null,
   "metadata": {},
   "outputs": [],
   "source": [
    "len(slist)"
   ]
  },
  {
   "cell_type": "code",
   "execution_count": null,
   "metadata": {},
   "outputs": [],
   "source": [
    "decision_model.parameters['squashes'].data.numpy()\n"
   ]
  },
  {
   "cell_type": "code",
   "execution_count": 36,
   "metadata": {},
   "outputs": [
    {
     "data": {
      "text/plain": [
       "-0.10536051565782628"
      ]
     },
     "execution_count": 36,
     "metadata": {},
     "output_type": "execute_result"
    }
   ],
   "source": [
    "np.log(0.9)"
   ]
  },
  {
   "cell_type": "code",
   "execution_count": 38,
   "metadata": {},
   "outputs": [],
   "source": [
    "[sent1,sent2].sort()"
   ]
  },
  {
   "cell_type": "code",
   "execution_count": 84,
   "metadata": {},
   "outputs": [],
   "source": [
    "g=0\n",
    "a=0\n",
    "for trial in fitset:\n",
    "    \n",
    "    if trial[0]=='electra':\n",
    "        \n",
    "        a+=1\n",
    "    \n",
    "        pa=trial[1]\n",
    "        pb=trial[2]\n",
    "        c=trial[3]\n",
    "\n",
    "        if c==0 and pa>pb:\n",
    "            g+=1\n",
    "        elif c==1 and pb>pa:\n",
    "            g+=1\n"
   ]
  },
  {
   "cell_type": "code",
   "execution_count": 85,
   "metadata": {},
   "outputs": [
    {
     "data": {
      "text/plain": [
       "0.6602941176470588"
      ]
     },
     "execution_count": 85,
     "metadata": {},
     "output_type": "execute_result"
    }
   ],
   "source": [
    "g/a"
   ]
  },
  {
   "cell_type": "code",
   "execution_count": 73,
   "metadata": {},
   "outputs": [
    {
     "data": {
      "text/plain": [
       "9878"
      ]
     },
     "execution_count": 73,
     "metadata": {},
     "output_type": "execute_result"
    }
   ],
   "source": [
    "g"
   ]
  },
  {
   "cell_type": "code",
   "execution_count": 74,
   "metadata": {
    "scrolled": true
   },
   "outputs": [
    {
     "data": {
      "text/plain": [
       "0.6602941176470588"
      ]
     },
     "execution_count": 74,
     "metadata": {},
     "output_type": "execute_result"
    }
   ],
   "source": [
    "g/len(fitset)"
   ]
  },
  {
   "cell_type": "code",
   "execution_count": 75,
   "metadata": {},
   "outputs": [
    {
     "data": {
      "text/plain": [
       "-0.4155154439616658"
      ]
     },
     "execution_count": 75,
     "metadata": {},
     "output_type": "execute_result"
    }
   ],
   "source": [
    "np.log(.66)"
   ]
  },
  {
   "cell_type": "code",
   "execution_count": null,
   "metadata": {},
   "outputs": [],
   "source": []
  }
 ],
 "metadata": {
  "kernelspec": {
   "display_name": "Python 3",
   "language": "python",
   "name": "python3"
  },
  "language_info": {
   "codemirror_mode": {
    "name": "ipython",
    "version": 3
   },
   "file_extension": ".py",
   "mimetype": "text/x-python",
   "name": "python",
   "nbconvert_exporter": "python",
   "pygments_lexer": "ipython3",
   "version": "3.7.6"
  }
 },
 "nbformat": 4,
 "nbformat_minor": 4
}
