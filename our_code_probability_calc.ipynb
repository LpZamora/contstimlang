{
 "cells": [
  {
   "cell_type": "markdown",
   "metadata": {},
   "source": [
    "# Log prob function"
   ]
  },
  {
   "cell_type": "code",
   "execution_count": 1,
   "metadata": {},
   "outputs": [
    {
     "name": "stderr",
     "output_type": "stream",
     "text": [
      "c:\\Users\\danie\\miniconda3\\envs\\tf\\lib\\site-packages\\transformers\\utils\\generic.py:260: UserWarning: torch.utils._pytree._register_pytree_node is deprecated. Please use torch.utils._pytree.register_pytree_node instead.\n",
      "  torch.utils._pytree._register_pytree_node(\n"
     ]
    }
   ],
   "source": [
    "from transformers import GPT2Tokenizer, GPT2LMHeadModel\n",
    "import numpy as np\n",
    "import torch"
   ]
  },
  {
   "cell_type": "code",
   "execution_count": 2,
   "metadata": {},
   "outputs": [],
   "source": [
    "class GPTContainer:\n",
    "    def __init__(self):\n",
    "        self.device = torch.device(\"cuda\" if torch.cuda.is_available() else \"cpu\")\n",
    "        self.tokenizer = GPT2Tokenizer.from_pretrained(\"gpt2\") # change to gpt-xl when running for real\n",
    "        self.model = GPT2LMHeadModel.from_pretrained(\"gpt2\").to(self.device) # change to gpt-xl when running for real\n",
    "        \n",
    "        self.starts = []\n",
    "        self.suffs = []\n",
    "\n",
    "        # Populate starts and suffs\n",
    "        for i in range(len(self.tokenizer.get_vocab())):\n",
    "            tok = self.tokenizer.decode(i)\n",
    "            if tok[0] == \" \" or tok[0] == \".\":\n",
    "                self.starts.append(i)\n",
    "            elif tok[0] != \" \":\n",
    "                self.suffs.append(i)\n",
    "                    \n",
    "    def gpt2_sent_prob(self, sent):\n",
    "        logsoftmax = torch.nn.LogSoftmax(dim=-1)\n",
    "        \n",
    "        tokenizer = self.tokenizer\n",
    "        model = self.model\n",
    "\n",
    "        starts = self.starts\n",
    "        suffs = self.suffs\n",
    "\n",
    "        sent = \". \" + sent + \".\"\n",
    "\n",
    "        tokens = tokenizer.encode(sent)\n",
    "        inputs = torch.tensor(tokens).to(self.device)\n",
    "\n",
    "        with torch.no_grad():\n",
    "            out = model(inputs)\n",
    "\n",
    "        unsoft = out[0]\n",
    "        lab1 = inputs.cpu().data.numpy()\n",
    "        \n",
    "        probs = []\n",
    "        for x in range(len(lab1) - 1):\n",
    "\n",
    "            lab = lab1[x + 1]\n",
    "            unsoft1 = unsoft[x]\n",
    "\n",
    "            if lab in starts:\n",
    "\n",
    "                soft = logsoftmax(unsoft1[starts])\n",
    "                prob = float(soft[starts.index(lab)].cpu().data.numpy())\n",
    "\n",
    "            elif lab in suffs:\n",
    "\n",
    "                soft = logsoftmax(unsoft1[suffs])\n",
    "                prob = float(soft[suffs.index(lab)].cpu().data.numpy())\n",
    "\n",
    "            probs.append(prob)\n",
    "\n",
    "        prob = np.sum(probs)\n",
    "\n",
    "        return prob\n"
   ]
  },
  {
   "cell_type": "markdown",
   "metadata": {},
   "source": [
    "# Example usage"
   ]
  },
  {
   "cell_type": "code",
   "execution_count": 3,
   "metadata": {},
   "outputs": [],
   "source": [
    "gpt = GPTContainer()"
   ]
  },
  {
   "cell_type": "code",
   "execution_count": 4,
   "metadata": {},
   "outputs": [],
   "source": [
    "sentence = \"A message has been sent to your account\"\n",
    "log_probability = gpt.gpt2_sent_prob(sentence)"
   ]
  },
  {
   "cell_type": "code",
   "execution_count": 5,
   "metadata": {},
   "outputs": [
    {
     "name": "stdout",
     "output_type": "stream",
     "text": [
      "-27.383871644735336\n",
      "1.2803704769791433e-12\n"
     ]
    }
   ],
   "source": [
    "import math\n",
    "print(log_probability)\n",
    "print(math.exp(log_probability))"
   ]
  },
  {
   "cell_type": "markdown",
   "metadata": {},
   "source": [
    "# Creating log probabilities"
   ]
  },
  {
   "cell_type": "code",
   "execution_count": 6,
   "metadata": {},
   "outputs": [],
   "source": [
    "import pandas as pd\n",
    "\n",
    "df = pd.read_csv(\"our_df.csv\", usecols=['sentence_pair', 'subjects_majority_vote'])"
   ]
  },
  {
   "cell_type": "code",
   "execution_count": 10,
   "metadata": {},
   "outputs": [
    {
     "name": "stderr",
     "output_type": "stream",
     "text": [
      "C:\\Users\\danie\\AppData\\Local\\Temp\\ipykernel_22548\\2646173595.py:2: SettingWithCopyWarning: \n",
      "A value is trying to be set on a copy of a slice from a DataFrame.\n",
      "Try using .loc[row_indexer,col_indexer] = value instead\n",
      "\n",
      "See the caveats in the documentation: https://pandas.pydata.org/pandas-docs/stable/user_guide/indexing.html#returning-a-view-versus-a-copy\n",
      "  dfsentence[['sentence1', 'sentence2']] = df['sentence_pair'].str.split('_', expand=True)\n",
      "C:\\Users\\danie\\AppData\\Local\\Temp\\ipykernel_22548\\2646173595.py:2: SettingWithCopyWarning: \n",
      "A value is trying to be set on a copy of a slice from a DataFrame.\n",
      "Try using .loc[row_indexer,col_indexer] = value instead\n",
      "\n",
      "See the caveats in the documentation: https://pandas.pydata.org/pandas-docs/stable/user_guide/indexing.html#returning-a-view-versus-a-copy\n",
      "  dfsentence[['sentence1', 'sentence2']] = df['sentence_pair'].str.split('_', expand=True)\n"
     ]
    }
   ],
   "source": [
    "dfsentence = df.drop_duplicates(subset='sentence_pair')\n",
    "dfsentence[['sentence1', 'sentence2']] = df['sentence_pair'].str.split('_', expand=True)"
   ]
  },
  {
   "cell_type": "code",
   "execution_count": 11,
   "metadata": {},
   "outputs": [
    {
     "name": "stderr",
     "output_type": "stream",
     "text": [
      "C:\\Users\\danie\\AppData\\Local\\Temp\\ipykernel_22548\\1079649262.py:9: SettingWithCopyWarning: \n",
      "A value is trying to be set on a copy of a slice from a DataFrame.\n",
      "Try using .loc[row_indexer,col_indexer] = value instead\n",
      "\n",
      "See the caveats in the documentation: https://pandas.pydata.org/pandas-docs/stable/user_guide/indexing.html#returning-a-view-versus-a-copy\n",
      "  dfsentence['probability_sentence1'] = [p[0] for p in probabilities]\n",
      "C:\\Users\\danie\\AppData\\Local\\Temp\\ipykernel_22548\\1079649262.py:10: SettingWithCopyWarning: \n",
      "A value is trying to be set on a copy of a slice from a DataFrame.\n",
      "Try using .loc[row_indexer,col_indexer] = value instead\n",
      "\n",
      "See the caveats in the documentation: https://pandas.pydata.org/pandas-docs/stable/user_guide/indexing.html#returning-a-view-versus-a-copy\n",
      "  dfsentence['probability_sentence2'] = [p[1] for p in probabilities]\n"
     ]
    }
   ],
   "source": [
    "# Calculate probabilities for each pair of sentences\n",
    "probabilities = []\n",
    "for index, row in dfsentence.iterrows():\n",
    "    prob1 = gpt.gpt2_sent_prob(row['sentence1'])\n",
    "    prob2 = gpt.gpt2_sent_prob(row['sentence2'])\n",
    "    probabilities.append([prob1, prob2])\n",
    "\n",
    "# Add probabilities to the DataFrame\n",
    "dfsentence['probability_sentence1'] = [p[0] for p in probabilities]\n",
    "dfsentence['probability_sentence2'] = [p[1] for p in probabilities]"
   ]
  },
  {
   "cell_type": "code",
   "execution_count": 12,
   "metadata": {},
   "outputs": [],
   "source": [
    "dfsentence.to_csv('our_sentences_probs.csv', index=False)"
   ]
  }
 ],
 "metadata": {
  "kernelspec": {
   "display_name": "Python 3 (ipykernel)",
   "language": "python",
   "name": "python3"
  },
  "language_info": {
   "codemirror_mode": {
    "name": "ipython",
    "version": 3
   },
   "file_extension": ".py",
   "mimetype": "text/x-python",
   "name": "python",
   "nbconvert_exporter": "python",
   "pygments_lexer": "ipython3",
   "version": "3.10.13"
  }
 },
 "nbformat": 4,
 "nbformat_minor": 4
}
